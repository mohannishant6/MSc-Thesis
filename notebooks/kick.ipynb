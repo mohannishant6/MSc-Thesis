{
  "nbformat": 4,
  "nbformat_minor": 0,
  "metadata": {
    "kernelspec": {
      "display_name": "Python 3",
      "language": "python",
      "name": "python3"
    },
    "language_info": {
      "codemirror_mode": {
        "name": "ipython",
        "version": 3
      },
      "file_extension": ".py",
      "mimetype": "text/x-python",
      "name": "python",
      "nbconvert_exporter": "python",
      "pygments_lexer": "ipython3",
      "version": "3.7.6"
    },
    "colab": {
      "name": "kick.ipynb",
      "provenance": []
    },
    "accelerator": "GPU"
  },
  "cells": [
    {
      "cell_type": "code",
      "metadata": {
        "id": "ysRIfjyHjfzq",
        "colab_type": "code",
        "colab": {
          "base_uri": "https://localhost:8080/",
          "height": 505
        },
        "outputId": "ab0efdd7-6eb6-4b5a-9ca7-977ec8d00342"
      },
      "source": [
        "!pip install catboost\n",
        "!pip install category_encoders\n",
        "from xgboost import XGBClassifier\n",
        "from catboost import CatBoostClassifier\n",
        "import category_encoders as ce\n",
        "from sklearn.preprocessing import OrdinalEncoder,LabelEncoder\n",
        "from sklearn.metrics import accuracy_score, f1_score,jaccard_score,multilabel_confusion_matrix,log_loss\n",
        "import lightgbm as lgbm\n",
        "from sklearn.ensemble import RandomForestClassifier\n",
        "from sklearn.model_selection import train_test_split, GridSearchCV\n",
        "import pandas as pd\n",
        "import numpy as np\n",
        "import warnings\n",
        "from sklearn.exceptions import DataConversionWarning\n",
        "warnings.filterwarnings(action='ignore', category=DataConversionWarning)"
      ],
      "execution_count": 1,
      "outputs": [
        {
          "output_type": "stream",
          "text": [
            "Requirement already satisfied: catboost in /usr/local/lib/python3.6/dist-packages (0.23.2)\n",
            "Requirement already satisfied: matplotlib in /usr/local/lib/python3.6/dist-packages (from catboost) (3.2.2)\n",
            "Requirement already satisfied: graphviz in /usr/local/lib/python3.6/dist-packages (from catboost) (0.10.1)\n",
            "Requirement already satisfied: pandas>=0.24.0 in /usr/local/lib/python3.6/dist-packages (from catboost) (1.0.5)\n",
            "Requirement already satisfied: plotly in /usr/local/lib/python3.6/dist-packages (from catboost) (4.4.1)\n",
            "Requirement already satisfied: numpy>=1.16.0 in /usr/local/lib/python3.6/dist-packages (from catboost) (1.18.5)\n",
            "Requirement already satisfied: six in /usr/local/lib/python3.6/dist-packages (from catboost) (1.12.0)\n",
            "Requirement already satisfied: scipy in /usr/local/lib/python3.6/dist-packages (from catboost) (1.4.1)\n",
            "Requirement already satisfied: cycler>=0.10 in /usr/local/lib/python3.6/dist-packages (from matplotlib->catboost) (0.10.0)\n",
            "Requirement already satisfied: kiwisolver>=1.0.1 in /usr/local/lib/python3.6/dist-packages (from matplotlib->catboost) (1.2.0)\n",
            "Requirement already satisfied: pyparsing!=2.0.4,!=2.1.2,!=2.1.6,>=2.0.1 in /usr/local/lib/python3.6/dist-packages (from matplotlib->catboost) (2.4.7)\n",
            "Requirement already satisfied: python-dateutil>=2.1 in /usr/local/lib/python3.6/dist-packages (from matplotlib->catboost) (2.8.1)\n",
            "Requirement already satisfied: pytz>=2017.2 in /usr/local/lib/python3.6/dist-packages (from pandas>=0.24.0->catboost) (2018.9)\n",
            "Requirement already satisfied: retrying>=1.3.3 in /usr/local/lib/python3.6/dist-packages (from plotly->catboost) (1.3.3)\n",
            "Requirement already satisfied: category_encoders in /usr/local/lib/python3.6/dist-packages (2.2.2)\n",
            "Requirement already satisfied: scipy>=1.0.0 in /usr/local/lib/python3.6/dist-packages (from category_encoders) (1.4.1)\n",
            "Requirement already satisfied: pandas>=0.21.1 in /usr/local/lib/python3.6/dist-packages (from category_encoders) (1.0.5)\n",
            "Requirement already satisfied: statsmodels>=0.9.0 in /usr/local/lib/python3.6/dist-packages (from category_encoders) (0.10.2)\n",
            "Requirement already satisfied: scikit-learn>=0.20.0 in /usr/local/lib/python3.6/dist-packages (from category_encoders) (0.22.2.post1)\n",
            "Requirement already satisfied: patsy>=0.5.1 in /usr/local/lib/python3.6/dist-packages (from category_encoders) (0.5.1)\n",
            "Requirement already satisfied: numpy>=1.14.0 in /usr/local/lib/python3.6/dist-packages (from category_encoders) (1.18.5)\n",
            "Requirement already satisfied: pytz>=2017.2 in /usr/local/lib/python3.6/dist-packages (from pandas>=0.21.1->category_encoders) (2018.9)\n",
            "Requirement already satisfied: python-dateutil>=2.6.1 in /usr/local/lib/python3.6/dist-packages (from pandas>=0.21.1->category_encoders) (2.8.1)\n",
            "Requirement already satisfied: joblib>=0.11 in /usr/local/lib/python3.6/dist-packages (from scikit-learn>=0.20.0->category_encoders) (0.16.0)\n",
            "Requirement already satisfied: six in /usr/local/lib/python3.6/dist-packages (from patsy>=0.5.1->category_encoders) (1.12.0)\n"
          ],
          "name": "stdout"
        },
        {
          "output_type": "stream",
          "text": [
            "/usr/local/lib/python3.6/dist-packages/statsmodels/tools/_testing.py:19: FutureWarning: pandas.util.testing is deprecated. Use the functions in the public API at pandas.testing instead.\n",
            "  import pandas.util.testing as tm\n"
          ],
          "name": "stderr"
        }
      ]
    },
    {
      "cell_type": "code",
      "metadata": {
        "id": "1shihhTiyCXd",
        "colab_type": "code",
        "colab": {}
      },
      "source": [
        "import pandas as pd\n",
        "df = pd.read_csv('training.csv')"
      ],
      "execution_count": 2,
      "outputs": []
    },
    {
      "cell_type": "code",
      "metadata": {
        "id": "C5mhAtvU4wxp",
        "colab_type": "code",
        "colab": {}
      },
      "source": [
        ""
      ],
      "execution_count": 2,
      "outputs": []
    },
    {
      "cell_type": "code",
      "metadata": {
        "id": "y73BTwRVjfz0",
        "colab_type": "code",
        "colab": {}
      },
      "source": [
        "\n",
        "X=df.iloc[:,2:]\n",
        "y=df.iloc[:,1]"
      ],
      "execution_count": 3,
      "outputs": []
    },
    {
      "cell_type": "code",
      "metadata": {
        "id": "ozYmWD9pjfz4",
        "colab_type": "code",
        "colab": {}
      },
      "source": [
        "#label encoder to encode unseen values too\n",
        "class LabelEncoderExt(object):\n",
        "    def __init__(self):\n",
        "        \"\"\"\n",
        "        It differs from LabelEncoder by handling new classes and providing a value for it [Unknown]\n",
        "        Unknown will be added in fit and transform will take care of new item. It gives unknown class id\n",
        "        \"\"\"\n",
        "        self.label_encoder = LabelEncoder()\n",
        "        # self.classes_ = self.label_encoder.classes_\n",
        "\n",
        "    def fit(self, data_list):\n",
        "        \"\"\"\n",
        "        This will fit the encoder for all the unique values and introduce unknown value\n",
        "        :param data_list: A list of string\n",
        "        :return: self\n",
        "        \"\"\"\n",
        "        self.label_encoder = self.label_encoder.fit(list(data_list) + ['Unknown'])\n",
        "        self.classes_ = self.label_encoder.classes_\n",
        "\n",
        "        return self\n",
        "\n",
        "    def transform(self, data_list):\n",
        "        \"\"\"\n",
        "        This will transform the data_list to id list where the new values get assigned to Unknown class\n",
        "        :param data_list:\n",
        "        :return:\n",
        "        \"\"\"\n",
        "        new_data_list = list(data_list)\n",
        "        for unique_item in np.unique(data_list):\n",
        "            if unique_item not in self.label_encoder.classes_:\n",
        "                new_data_list = ['Unknown' if x==unique_item else x for x in new_data_list]\n",
        "\n",
        "        return self.label_encoder.transform(new_data_list)\n"
      ],
      "execution_count": 4,
      "outputs": []
    },
    {
      "cell_type": "code",
      "metadata": {
        "id": "6PbWO133jfz8",
        "colab_type": "code",
        "colab": {}
      },
      "source": [
        "#encodings and split\n",
        "\n",
        "def onehot_all(X,y,ratio):\n",
        "    \n",
        "    #split\n",
        "    X_train, X_test, y_train, y_test = train_test_split(X, y, test_size=ratio, random_state=42)\n",
        "    \n",
        "    obj_cols=X.select_dtypes('object').columns\n",
        "    enc=ce.OneHotEncoder(cols=obj_cols,handle_missing='return_nan').fit(X_train,y_train)\n",
        "    X_train=enc.transform(X_train)\n",
        "    X_test=enc.transform(X_test)\n",
        "    \n",
        "    return X_train, X_test,y_train, y_test\n",
        "\n",
        "def target_all(X,y,ratio):\n",
        "    \n",
        "    #split\n",
        "    X_train, X_test, y_train, y_test = train_test_split(X, y, test_size=ratio, random_state=42)\n",
        "    \n",
        "#     obj_cols=X.select_dtypes('object').columns\n",
        "    enc=ce.TargetEncoder(handle_missing='return_nan').fit(X_train,y_train)\n",
        "    X_train=enc.transform(X_train)\n",
        "    X_test=enc.transform(X_test)\n",
        "    \n",
        "    return X_train,X_test,y_train, y_test\n",
        "    \n",
        "def onehot_target(X,y,ratio,thresh):\n",
        "    \n",
        "    #split\n",
        "    X_train, X_test, y_train, y_test = train_test_split(X, y, test_size=ratio, random_state=42)\n",
        "    \n",
        "    low_card_cols,high_card_cols=[],[]\n",
        "    obj_cols=X.select_dtypes('object').columns\n",
        "    for col in obj_cols:\n",
        "        if X_train[col].nunique()<=thresh:\n",
        "            low_card_cols.append(col)\n",
        "        else:\n",
        "            high_card_cols.append(col)\n",
        "    \n",
        "    print(low_card_cols,high_card_cols)\n",
        "    \n",
        "    enc=ce.OneHotEncoder(cols=low_card_cols,handle_missing='return_nan').fit(X_train,y_train)\n",
        "    X_train=enc.transform(X_train)\n",
        "    X_test=enc.transform(X_test)\n",
        "    \n",
        "    enc=ce.TargetEncoder(cols=high_card_cols,handle_missing='return_nan').fit(X_train,y_train)\n",
        "    X_train=enc.transform(X_train)\n",
        "    X_test=enc.transform(X_test)\n",
        "    \n",
        "    return X_train,X_test,y_train, y_test\n",
        "            "
      ],
      "execution_count": 5,
      "outputs": []
    },
    {
      "cell_type": "code",
      "metadata": {
        "id": "EmAQA0NNjfz_",
        "colab_type": "code",
        "colab": {}
      },
      "source": [
        "\n",
        "def train_evaluate( X_train,X_test,y_train, y_test,cat_features=None):\n",
        "\n",
        "  try:\n",
        "    print(\"lightgbm training with gridsearch\")\n",
        "\n",
        "    model = lgbm.LGBMClassifier(boosting_type='goss')\n",
        "    grid = GridSearchCV(estimator=model, param_grid = parameters)\n",
        "    grid.fit(X_train, y_train,verbose=0)    \n",
        "\n",
        "    model=grid.best_estimator_\n",
        "    evaluate(model,X_test,y_test)\n",
        "  except: pass\n",
        "\n",
        "  try:\n",
        "    print(\"catboost training with gridsearch\")\n",
        "\n",
        "    model = CatBoostClassifier(\n",
        "        task_type=\"GPU\", devices='0:1'\n",
        "    )\n",
        "    grid = GridSearchCV(estimator=model, param_grid = parameters)\n",
        "    grid.fit(X_train, y_train,verbose=0)    \n",
        "\n",
        "    model=grid.best_estimator_\n",
        "    evaluate(model,X_test,y_test)\n",
        "  except:pass\n",
        "\n",
        "  try:\n",
        "    print(\"xgboost training with gridsearch\")\n",
        "\n",
        "    model = XGBClassifier(tree_method='gpu_hist', gpu_id=0)\n",
        "    grid = GridSearchCV(estimator=model, param_grid = parameters_xgb)\n",
        "    grid.fit(X_train, y_train,verbose=0)    \n",
        "\n",
        "    model=grid.best_estimator_\n",
        "    evaluate(model,X_test,y_test)\n",
        "  except:pass\n",
        "\n",
        "  try:  \n",
        "    print(\"RF training with gridsearch\")\n",
        "    \n",
        "    model=RandomForestClassifier()\n",
        "    grid = GridSearchCV(estimator=model, param_grid = parameters_RF)\n",
        "    grid.fit(X_train.fillna(value=0), y_train)    \n",
        "\n",
        "    model=grid.best_estimator_\n",
        "    evaluate(model,X_test.fillna(value=0),y_test)\n",
        "  except:pass\n",
        "    \n",
        "def train_evaluate_with_cat_feat( X_train,X_test,y_train, y_test,cat_features=None):\n",
        "  try:\n",
        "    print(\"lightgbm training with gridsearch\")\n",
        "    for col in cat_features:\n",
        "        le = LabelEncoderExt()\n",
        "        le.fit(X_train[col])\n",
        "        X_train[col]=le.transform(X_train[col])\n",
        "        X_test[col]=le.transform(X_test[col])\n",
        "\n",
        "    fit_params={'categorical_feature':cat_features}\n",
        "    model = lgbm.LGBMClassifier(boosting_type='goss')\n",
        "    grid = GridSearchCV(estimator=model, param_grid = parameters)\n",
        "    grid.fit(X_train, y_train,verbose=0,**fit_params)    \n",
        "\n",
        "    model=grid.best_estimator_\n",
        "    evaluate(model,X_test,y_test)\n",
        "  except:pass\n",
        "\n",
        "  try:\n",
        "    print(\"catboost training with gridsearch\")\n",
        "    fit_params={'cat_features':cat_features}\n",
        "    model = CatBoostClassifier(\n",
        "        task_type=\"GPU\", devices='0:1'\n",
        "    )\n",
        "    grid = GridSearchCV(estimator=model, param_grid = parameters)\n",
        "    grid.fit(X_train, y_train,verbose=0,**fit_params)    \n",
        "\n",
        "    model=grid.best_estimator_\n",
        "    evaluate(model,X_test,y_test)\n",
        "  except:pass"
      ],
      "execution_count": 6,
      "outputs": []
    },
    {
      "cell_type": "code",
      "metadata": {
        "id": "T8lipuKDjf0D",
        "colab_type": "code",
        "colab": {}
      },
      "source": [
        "#evaluation function\n",
        "\n",
        "def evaluate(model,X_test,y_test):\n",
        "    \n",
        "    pred=model.predict(X_test)\n",
        "    pred_proba=model.predict_proba(X_test)\n",
        "\n",
        "    print('accuracy:',accuracy_score(y_test,pred))\n",
        "    print('f1 macro:',f1_score(y_test,pred, average='macro'))\n",
        "    print('f1_micro:',f1_score(y_test,pred, average='micro'))\n",
        "#     print(pd.Series(pred).unique())\n",
        "    print('log_loss:',log_loss(y_test,pred_proba))\n"
      ],
      "execution_count": 7,
      "outputs": []
    },
    {
      "cell_type": "code",
      "metadata": {
        "id": "rDpzbqqsjf0M",
        "colab_type": "code",
        "colab": {
          "base_uri": "https://localhost:8080/",
          "height": 225
        },
        "outputId": "97d301de-c742-4026-db9c-245a70ba0c2b"
      },
      "source": [
        "# X=df.iloc[:,:-1]\n",
        "# y=df.iloc[:,-1:]\n",
        "# X_train,X_test,y_train, y_test=onehot_all(df.iloc[:,:-1],y,.2)\n",
        "# X_train,X_test,y_train, y_test=target_all(df.iloc[:,:-1],y,ratio=.2)\n",
        "# X_train,X_test,y_train, y_test=onehot_target(df.iloc[:,:-1],y,ratio=.2,thresh=10)\n",
        "\n",
        "\n",
        "parameters = {'depth'         : [6,8],\n",
        "              'learning_rate' : [.01,.05,.1,.2],\n",
        "              'iterations'    : [500,1000]\n",
        "              }\n",
        "# parameters = {'depth'         : [4],\n",
        "#               'learning_rate' : [.2],\n",
        "#               'iterations'    : [50]\n",
        "#               }\n",
        "parameters_xgb = {\n",
        "'n_estimators': [500,1000],\n",
        "    # 'max_features': ['auto', 'sqrt', 'log2'],\n",
        "    'max_depth' : [6,8],\n",
        "    # 'criterion' :['gini', 'entropy']\n",
        "        }\n",
        "\n",
        "# parameters_xgb = {\n",
        "# 'n_estimators': [50],\n",
        "# #     'max_features': ['auto', 'sqrt', 'log2'],\n",
        "#     'max_depth' : [4],\n",
        "# #     'criterion' :['gini', 'entropy']\n",
        "#         }\n",
        "parameters_RF={'max_depth':[6,8], 'n_estimators':[500,1000]}\n",
        "# parameters_RF={'max_depth':[2], 'n_estimators':[10]}\n",
        "\n",
        "print(\"first with one hot for all\")\n",
        "X_train,X_test,y_train, y_test=onehot_all(X,y,.2)\n",
        "train_evaluate( X_train,X_test,y_train, y_test)\n",
        "\n",
        "print(\"now with target encoding\")\n",
        "X_train,X_test,y_train, y_test=target_all(X,y,ratio=.2)\n",
        "train_evaluate( X_train,X_test,y_train, y_test)\n",
        "\n",
        "print(\"now with mix encodings\")\n",
        "X_train,X_test,y_train, y_test=onehot_target(X,y,ratio=.2,thresh=5)\n",
        "train_evaluate( X_train,X_test,y_train, y_test)\n",
        "\n",
        "print(\"now with native cat features support\")\n",
        "\n",
        "X_train,X_test,y_train, y_test=train_test_split(X, y, test_size=.2, random_state=42)\n",
        "train_evaluate_with_cat_feat(X_train,X_test,y_train, y_test,cat_features=list(X_train.select_dtypes('object').columns))\n"
      ],
      "execution_count": null,
      "outputs": [
        {
          "output_type": "stream",
          "text": [
            "first with one hot for all\n",
            "lightgbm training with gridsearch\n",
            "accuracy: 0.9045694320750839\n",
            "f1 macro: 0.6658191851532467\n",
            "f1_micro: 0.9045694320750839\n",
            "log_loss: 0.29183143346439044\n",
            "catboost training with gridsearch\n",
            "accuracy: 0.9035418236623964\n",
            "f1 macro: 0.6626310911995932\n",
            "f1_micro: 0.9035418236623964\n",
            "log_loss: 0.29006753211122477\n",
            "xgboost training with gridsearch\n"
          ],
          "name": "stdout"
        }
      ]
    }
  ]
}
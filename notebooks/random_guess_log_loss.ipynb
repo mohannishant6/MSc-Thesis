{
 "cells": [
  {
   "cell_type": "code",
   "execution_count": 9,
   "metadata": {},
   "outputs": [
    {
     "name": "stdout",
     "output_type": "stream",
     "text": [
      "1.3862788839570899\n"
     ]
    }
   ],
   "source": [
    "from sklearn.metrics import log_loss\n",
    "\n",
    "def calculate_log_loss(class_ratio):\n",
    "    \n",
    "    if sum(class_ratio)!=1:\n",
    "        print(\"warning: Sum of ratios should be 1\")\n",
    "        class_ratio[-1]+=1-sum(class_ratio)\n",
    "    \n",
    "    multi=10000\n",
    "    actuals=[]\n",
    "    for i,val in enumerate(class_ratio):\n",
    "        actuals=actuals+[i for x in range(int(val*multi))]\n",
    "\n",
    "    preds=[]\n",
    "    for i in range(multi):\n",
    "        preds+=[class_ratio]\n",
    "\n",
    "    # print(actuals, preds)\n",
    "    print(log_loss(actuals, preds))\n",
    "\n",
    "calculate_log_loss(class_ratio=[0.252, 0.2502, 0.2497, 0.2481])\n"
   ]
  }
 ],
 "metadata": {
  "kernelspec": {
   "display_name": "Python 3",
   "language": "python",
   "name": "python3"
  },
  "language_info": {
   "codemirror_mode": {
    "name": "ipython",
    "version": 3
   },
   "file_extension": ".py",
   "mimetype": "text/x-python",
   "name": "python",
   "nbconvert_exporter": "python",
   "pygments_lexer": "ipython3",
   "version": "3.7.6"
  }
 },
 "nbformat": 4,
 "nbformat_minor": 4
}

{
 "cells": [
  {
   "cell_type": "code",
   "execution_count": 27,
   "metadata": {},
   "outputs": [
    {
     "name": "stdout",
     "output_type": "stream",
     "text": [
      "1.3862788839570899\n"
     ]
    }
   ],
   "source": [
    "from sklearn.metrics import log_loss\n",
    "\n",
    "def calculate_log_loss(class_ratio):\n",
    "    \n",
    "    if sum(class_ratio)!=1:\n",
    "        print(\"warning: Sum of ratios should be 1\")\n",
    "        class_ratio[-1]+=1-sum(class_ratio)\n",
    "        print(sum(class_ratio))\n",
    "    \n",
    "    multi=10000\n",
    "    actuals=[]\n",
    "    for i,val in enumerate(class_ratio):\n",
    "        actuals=actuals+[i for x in range(int(val*multi))]\n",
    "        \n",
    "\n",
    "    preds=[]\n",
    "    for i in range(multi):\n",
    "        preds+=[class_ratio]\n",
    "\n",
    "    # print(actuals, preds)\n",
    "    print(log_loss(actuals, preds))\n",
    "\n",
    "calculate_log_loss(class_ratio=[0.252, 0.2502, 0.2497, 0.2481])\n"
   ]
  },
  {
   "cell_type": "code",
   "execution_count": 29,
   "metadata": {},
   "outputs": [
    {
     "name": "stdout",
     "output_type": "stream",
     "text": [
      "0.3669249912727098\n"
     ]
    }
   ],
   "source": [
    "calculate_log_loss([0.88, 0.12])"
   ]
  },
  {
   "cell_type": "code",
   "execution_count": 31,
   "metadata": {},
   "outputs": [
    {
     "name": "stdout",
     "output_type": "stream",
     "text": [
      "0.5520003186401604\n",
      "0.22114976792895646\n",
      "0.3521233696999048\n",
      "1.0667947393032475\n",
      "0.3728599709609252\n",
      "1.4177378017429538\n",
      "1.3862788839570899\n",
      "warning: Sum of ratios should be 1\n",
      "1.0\n",
      "0.9856286515009531\n"
     ]
    }
   ],
   "source": [
    "calculate_log_loss([0.7592, 0.2408])\n",
    "calculate_log_loss([0.9421, 0.0579])\n",
    "calculate_log_loss([0.8873, 0.1127])\n",
    "calculate_log_loss([0.427, 0.3469, 0.2261])\n",
    "calculate_log_loss([0.877, 0.123])\n",
    "calculate_log_loss([0.4378, 0.3242, 0.1217, 0.0468, 0.0318, 0.011, 0.0095, 0.0078, 0.0061, 0.0033])\n",
    "calculate_log_loss([0.252, 0.2502, 0.2497, 0.2481])\n",
    "calculate_log_loss([0.4995, 0.4238, 0.0482, 0.0205, 0.0037, 0.0022, 0.0014, 0.0002, 0.0002, 0.0002])\n"
   ]
  },
  {
   "cell_type": "code",
   "execution_count": 25,
   "metadata": {},
   "outputs": [],
   "source": [
    "class_ratio=[0.4378, 0.3242, 0.1217, 0.0468, 0.0318, 0.011, 0.0095, 0.0078, 0.0061, 0.0033]\n",
    "multi=10000\n",
    "actuals=[]\n",
    "for i,val in enumerate(class_ratio):\n",
    "    actuals=actuals+[i for x in range(int(val*multi))]\n",
    "\n",
    "\n",
    "preds=[]\n",
    "for i in range(multi):\n",
    "    preds+=[class_ratio]\n",
    "\n",
    "# print(actuals, preds)\n",
    "# print(log_loss(actuals, preds))"
   ]
  },
  {
   "cell_type": "code",
   "execution_count": 15,
   "metadata": {},
   "outputs": [
    {
     "data": {
      "text/plain": [
       "0    4378\n",
       "1    3242\n",
       "2    1217\n",
       "3     468\n",
       "4     318\n",
       "5     110\n",
       "6      95\n",
       "7      78\n",
       "8      61\n",
       "9      32\n",
       "dtype: int64"
      ]
     },
     "execution_count": 15,
     "metadata": {},
     "output_type": "execute_result"
    }
   ],
   "source": [
    "import pandas as pd\n",
    "pd.Series(actuals).value_counts()"
   ]
  },
  {
   "cell_type": "code",
   "execution_count": 16,
   "metadata": {},
   "outputs": [
    {
     "data": {
      "text/plain": [
       "[0.4378, 0.3242, 0.1217, 0.0468, 0.0318, 0.011, 0.0095, 0.0078, 0.0061, 0.0032]    10000\n",
       "dtype: int64"
      ]
     },
     "execution_count": 16,
     "metadata": {},
     "output_type": "execute_result"
    }
   ],
   "source": [
    "pd.Series(preds).value_counts()"
   ]
  },
  {
   "cell_type": "code",
   "execution_count": 26,
   "metadata": {},
   "outputs": [
    {
     "name": "stdout",
     "output_type": "stream",
     "text": [
      "1.4177378017429538\n"
     ]
    }
   ],
   "source": [
    "print(log_loss(actuals, preds))"
   ]
  }
 ],
 "metadata": {
  "kernelspec": {
   "display_name": "Python 3",
   "language": "python",
   "name": "python3"
  },
  "language_info": {
   "codemirror_mode": {
    "name": "ipython",
    "version": 3
   },
   "file_extension": ".py",
   "mimetype": "text/x-python",
   "name": "python",
   "nbconvert_exporter": "python",
   "pygments_lexer": "ipython3",
   "version": "3.7.6"
  }
 },
 "nbformat": 4,
 "nbformat_minor": 4
}

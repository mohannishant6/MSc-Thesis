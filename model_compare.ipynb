{
 "cells": [
  {
   "cell_type": "code",
   "execution_count": 1,
   "metadata": {},
   "outputs": [],
   "source": [
    "from xgboost import XGBClassifier\n",
    "from catboost import CatBoostClassifier\n",
    "from category_encoders import *\n",
    "from sklearn.preprocessing import OrdinalEncoder\n",
    "from sklearn.metrics import accuracy_score, f1_score\n",
    "import lightgbm as lgbm\n",
    "from sklearn.ensemble import RandomForestClassifier\n",
    "from sklearn.model_selection import train_test_split\n",
    "import pandas as pd\n",
    "import numpy as np"
   ]
  },
  {
   "cell_type": "markdown",
   "metadata": {},
   "source": [
    "### encode "
   ]
  },
  {
   "cell_type": "code",
   "execution_count": 4,
   "metadata": {},
   "outputs": [],
   "source": [
    "encoder_types=['BackwardDifferenceEncoder',\n",
    "#  'BaseNEncoder',\n",
    "#  'BinaryEncoder',\n",
    " 'CatBoostEncoder',\n",
    "#  'HashingEncoder',\n",
    "#  'HelmertEncoder',\n",
    "#  'JamesSteinEncoder',\n",
    "#  'LeaveOneOutEncoder',\n",
    "#  'MEstimateEncoder',\n",
    "#  'OneHotEncoder',\n",
    "#  'OrdinalEncoder',\n",
    "#  'SumEncoder',\n",
    "#  'PolynomialEncoder',\n",
    " 'TargetEncoder',\n",
    "#  'WOEEncoder'\n",
    "              ]\n",
    "\n",
    "def encode_categories(X,y='',encoder_type='',data_type='train',encoder_obj='NULL'):\n",
    "    if data_type=='train':\n",
    "        encoder_obj=eval(encoder_type+'()')\n",
    "        X=encoder_obj.fit_transform(X,y)\n",
    "    else:\n",
    "        X=encoder_obj.transform(X)\n",
    "    return encoder_obj,X\n",
    "\n",
    "# encoder,X_train=encode_categories(X_train,y_train,'TargetEncoder','train','')\n",
    "# encoder,X_test=encode_categories(X_test,'','TargetEncoder','test',encoder)\n",
    "    "
   ]
  },
  {
   "cell_type": "markdown",
   "metadata": {},
   "source": [
    "### train "
   ]
  },
  {
   "cell_type": "code",
   "execution_count": 3,
   "metadata": {
    "scrolled": true
   },
   "outputs": [],
   "source": [
    "def train_models(X,y):\n",
    "    \n",
    "    #catboost\n",
    "    print(\" training cat\")\n",
    "    model_cat = CatBoostClassifier(iterations=50\n",
    "#                                    ,task_type=\"GPU\", devices='0:1'\n",
    "                                  )\n",
    "    model_cat.fit(X, y.reshape(-1,1), verbose=0)\n",
    "\n",
    "    #xgboost\n",
    "    print(\" training xgb\")\n",
    "    model_xgb = XGBClassifier(\n",
    "#         tree_method='gpu_hist', gpu_id=0\n",
    "    )\n",
    "    model_xgb.fit(X, y)\n",
    "    \n",
    "    #lightgbm\n",
    "#     d_train = lgbm.Dataset(X, label=y)\n",
    "    print(\" training lgbm\")\n",
    "    model_gbm=lgbm.LGBMClassifier()\n",
    "    model_gbm.fit(X,y)\n",
    "    \n",
    "    #RF\n",
    "    print(' training RF')\n",
    "    model_rf=RandomForestClassifier()\n",
    "    model_rf.fit(X,y)\n",
    "    \n",
    "    return model_cat,model_xgb,model_gbm,model_rf\n",
    "    \n",
    "# model_cat,model_xgb,model_gbm,model_rf=train_models(X_train,y_train)"
   ]
  },
  {
   "cell_type": "markdown",
   "metadata": {},
   "source": [
    "### evaluate "
   ]
  },
  {
   "cell_type": "code",
   "execution_count": 4,
   "metadata": {},
   "outputs": [],
   "source": [
    "# evaluate predictions\n",
    "def test_models(model_cat,model_xgb,model_gbm,model_rf,X,y):\n",
    "    \n",
    "    #catboost\n",
    "    accuracy = accuracy_score(y, model_cat.predict(X))\n",
    "    f1=f1_score(y, model_cat.predict(X),average='micro')\n",
    "    print(\" cat:\" ,accuracy * 100.0, f1*100.0)\n",
    "\n",
    "    #xgboost\n",
    "    accuracy = accuracy_score(y, model_xgb.predict(X))\n",
    "    f1=f1_score(y, model_xgb.predict(X),average='micro')\n",
    "    print(\" xgb: \",accuracy * 100.0, f1*100.0)\n",
    "\n",
    "    #lightgbm\n",
    "    accuracy = accuracy_score(y, model_gbm.predict(X))\n",
    "    f1=f1_score(y, model_gbm.predict(X),average='micro')\n",
    "    print(\" lgbm: \",accuracy * 100.0, f1*100.0)\n",
    "    \n",
    "    #random forest\n",
    "    accuracy = accuracy_score(y, model_rf.predict(X))\n",
    "    f1=f1_score(y, model_rf.predict(X),average='micro')\n",
    "    print(\" rf: \",accuracy * 100.0, f1*100.0)\n",
    "\n",
    "    \n",
    "# test_models(model_cat,model_xgb,model_gbm,model_rf,X_test,y_test)\n",
    "            "
   ]
  },
  {
   "cell_type": "markdown",
   "metadata": {},
   "source": [
    "###  run to get all models performance"
   ]
  },
  {
   "cell_type": "code",
   "execution_count": 5,
   "metadata": {
    "scrolled": false
   },
   "outputs": [],
   "source": [
    "def work(X,y):\n",
    "    X_train, X_test, y_train, y_test = train_test_split(X, y, test_size=0.33, random_state=42)\n",
    "    for encoding in encoder_types:\n",
    "        print(encoding)\n",
    "\n",
    "        encoder,X_train_encoded=encode_categories(X=X_train,y=y_train,encoder_type=encoding,data_type='train')\n",
    "        encoder,X_test_encoded=encode_categories(X=X_test,data_type='test',encoder_obj=encoder)\n",
    "\n",
    "        model_cat,model_xgb,model_gbm,model_rf=train_models(X_train_encoded,y_train)\n",
    "\n",
    "        test_models(model_cat,model_xgb,model_gbm,model_rf,X_test_encoded,y_test)\n"
   ]
  },
  {
   "cell_type": "markdown",
   "metadata": {},
   "source": [
    "### get df "
   ]
  },
  {
   "cell_type": "code",
   "execution_count": 6,
   "metadata": {},
   "outputs": [
    {
     "name": "stdout",
     "output_type": "stream",
     "text": [
      "BackwardDifferenceEncoder\n",
      " training cat\n",
      " training xgb\n",
      " training lgbm\n",
      " training RF\n",
      " cat: 83.05147305549964 83.05147305549964\n",
      " xgb:  83.74941279108785 83.74941279108785\n",
      " lgbm:  81.81330112073016 81.81330112073016\n",
      " rf:  80.83014562781021 80.83014562781021\n",
      "CatBoostEncoder\n",
      " training cat\n",
      " training xgb\n",
      " training lgbm\n",
      " training RF\n",
      " cat: 81.07845111066372 81.07845111066372\n",
      " xgb:  81.45090933494397 81.45090933494397\n",
      " lgbm:  80.55835178847057 80.55835178847057\n",
      " rf:  80.65901617341117 80.65901617341117\n",
      "TargetEncoder\n",
      " training cat\n",
      " training xgb\n",
      " training lgbm\n",
      " training RF\n",
      " cat: 83.35682168981947 83.35682168981947\n",
      " xgb:  84.00107375343937 84.00107375343937\n",
      " lgbm:  83.1286490839541 83.12864908395412\n",
      " rf:  81.55492919938258 81.55492919938257\n"
     ]
    }
   ],
   "source": [
    "df=pd.read_csv('income.csv')\n",
    "\n",
    "df=df.dropna()\n",
    "df=df[df['Income in EUR']>0]\n",
    "df['Profession']=df.Profession.map(lambda x:x[:3])\n",
    "df['Income in EUR']=pd.cut(np.log(df['Income in EUR'].values.ravel()),bins=5)\n",
    "df['Income in EUR']=df['Income in EUR'].astype(str)\n",
    "\n",
    "df.head()\n",
    "\n",
    "X=df[['Year of Record','Gender','Age','Country','Profession','University Degree']]\n",
    "y=df['Income in EUR']\n",
    "\n",
    "encoder_of_target = OrdinalEncoder()\n",
    "y=encoder_of_target.fit_transform(np.array(y).reshape(-1,1)).ravel()\n",
    "\n",
    "work(X,y)"
   ]
  },
  {
   "cell_type": "code",
   "execution_count": 7,
   "metadata": {},
   "outputs": [
    {
     "name": "stdout",
     "output_type": "stream",
     "text": [
      "BackwardDifferenceEncoder\n",
      " training cat\n",
      " training xgb\n",
      " training lgbm\n",
      " training RF\n",
      " cat: 26.54097171863669 26.54097171863669\n",
      " xgb:  24.437998549673676 24.437998549673676\n",
      " lgbm:  25.308194343727337 25.308194343727337\n",
      " rf:  25.380710659898476 25.380710659898476\n",
      "CatBoostEncoder\n",
      " training cat\n",
      " training xgb\n",
      " training lgbm\n",
      " training RF\n",
      " cat: 26.32342277012328 26.32342277012328\n",
      " xgb:  23.930384336475708 23.930384336475704\n",
      " lgbm:  24.147933284989122 24.147933284989122\n",
      " rf:  25.598259608411894 25.598259608411894\n",
      "TargetEncoder\n",
      " training cat\n",
      " training xgb\n",
      " training lgbm\n",
      " training RF\n",
      " cat: 26.46845540246556 26.46845540246556\n",
      " xgb:  24.437998549673676 24.437998549673676\n",
      " lgbm:  25.308194343727337 25.308194343727337\n",
      " rf:  25.308194343727337 25.308194343727337\n"
     ]
    }
   ],
   "source": [
    "df=pd.read_csv('abalone.data',header=None)\n",
    "X=df.iloc[:,:-1]\n",
    "y=df.iloc[:,-1]\n",
    "\n",
    "encoder_of_target = OrdinalEncoder()\n",
    "y=encoder_of_target.fit_transform(np.array(y).reshape(-1,1)).ravel()\n",
    "\n",
    "work(X,y)"
   ]
  },
  {
   "cell_type": "code",
   "execution_count": 8,
   "metadata": {},
   "outputs": [
    {
     "name": "stdout",
     "output_type": "stream",
     "text": [
      "BackwardDifferenceEncoder\n",
      " training cat\n",
      " training xgb\n",
      " training lgbm\n",
      " training RF\n",
      " cat: 86.91606179043364 86.91606179043364\n",
      " xgb:  86.95328494323469 86.95328494323469\n",
      " lgbm:  87.40926856504746 87.40926856504746\n",
      " rf:  85.38991252559092 85.38991252559092\n",
      "CatBoostEncoder\n",
      " training cat\n",
      " training xgb\n",
      " training lgbm\n",
      " training RF\n",
      " cat: 87.19523543644146 87.19523543644146\n",
      " xgb:  86.86022706123208 86.86022706123208\n",
      " lgbm:  87.1859296482412 87.1859296482412\n",
      " rf:  86.0785408524102 86.0785408524102\n",
      "TargetEncoder\n",
      " training cat\n",
      " training xgb\n",
      " training lgbm\n",
      " training RF\n",
      " cat: 87.51163223525033 87.51163223525033\n",
      " xgb:  86.80439233203052 86.80439233203052\n",
      " lgbm:  87.42788014144797 87.42788014144797\n",
      " rf:  85.47366461939326 85.47366461939326\n"
     ]
    }
   ],
   "source": [
    "df=pd.read_csv('adult.data',header=None)\n",
    "X=df.iloc[:,:-1]\n",
    "y=df.iloc[:,-1]\n",
    "\n",
    "encoder_of_target = OrdinalEncoder()\n",
    "y=encoder_of_target.fit_transform(np.array(y).reshape(-1,1)).ravel()\n",
    "\n",
    "work(X,y)"
   ]
  },
  {
   "cell_type": "code",
   "execution_count": 2,
   "metadata": {},
   "outputs": [],
   "source": [
    "df=pd.read_csv('adult.data',header=None)\n",
    "X=df.iloc[:,:-1]\n",
    "y=df.iloc[:,-1]\n"
   ]
  },
  {
   "cell_type": "code",
   "execution_count": 20,
   "metadata": {},
   "outputs": [],
   "source": [
    "encoder,X_train=encode_categories(X[[8]],y,'HelmertEncoder','train','')"
   ]
  },
  {
   "cell_type": "code",
   "execution_count": 24,
   "metadata": {},
   "outputs": [
    {
     "data": {
      "text/plain": [
       " White                 27816\n",
       " Black                  3124\n",
       " Asian-Pac-Islander     1039\n",
       " Amer-Indian-Eskimo      311\n",
       " Other                   271\n",
       "Name: 8, dtype: int64"
      ]
     },
     "execution_count": 24,
     "metadata": {},
     "output_type": "execute_result"
    }
   ],
   "source": [
    "X[8].value_counts()"
   ]
  },
  {
   "cell_type": "code",
   "execution_count": 21,
   "metadata": {},
   "outputs": [
    {
     "data": {
      "text/html": [
       "<div>\n",
       "<style scoped>\n",
       "    .dataframe tbody tr th:only-of-type {\n",
       "        vertical-align: middle;\n",
       "    }\n",
       "\n",
       "    .dataframe tbody tr th {\n",
       "        vertical-align: top;\n",
       "    }\n",
       "\n",
       "    .dataframe thead th {\n",
       "        text-align: right;\n",
       "    }\n",
       "</style>\n",
       "<table border=\"1\" class=\"dataframe\">\n",
       "  <thead>\n",
       "    <tr style=\"text-align: right;\">\n",
       "      <th></th>\n",
       "      <th>intercept</th>\n",
       "      <th>8_0</th>\n",
       "      <th>8_1</th>\n",
       "      <th>8_2</th>\n",
       "      <th>8_3</th>\n",
       "    </tr>\n",
       "  </thead>\n",
       "  <tbody>\n",
       "    <tr>\n",
       "      <th>0</th>\n",
       "      <td>1</td>\n",
       "      <td>-1.0</td>\n",
       "      <td>-1.0</td>\n",
       "      <td>-1.0</td>\n",
       "      <td>-1.0</td>\n",
       "    </tr>\n",
       "    <tr>\n",
       "      <th>1</th>\n",
       "      <td>1</td>\n",
       "      <td>-1.0</td>\n",
       "      <td>-1.0</td>\n",
       "      <td>-1.0</td>\n",
       "      <td>-1.0</td>\n",
       "    </tr>\n",
       "    <tr>\n",
       "      <th>2</th>\n",
       "      <td>1</td>\n",
       "      <td>-1.0</td>\n",
       "      <td>-1.0</td>\n",
       "      <td>-1.0</td>\n",
       "      <td>-1.0</td>\n",
       "    </tr>\n",
       "    <tr>\n",
       "      <th>3</th>\n",
       "      <td>1</td>\n",
       "      <td>1.0</td>\n",
       "      <td>-1.0</td>\n",
       "      <td>-1.0</td>\n",
       "      <td>-1.0</td>\n",
       "    </tr>\n",
       "    <tr>\n",
       "      <th>4</th>\n",
       "      <td>1</td>\n",
       "      <td>1.0</td>\n",
       "      <td>-1.0</td>\n",
       "      <td>-1.0</td>\n",
       "      <td>-1.0</td>\n",
       "    </tr>\n",
       "    <tr>\n",
       "      <th>...</th>\n",
       "      <td>...</td>\n",
       "      <td>...</td>\n",
       "      <td>...</td>\n",
       "      <td>...</td>\n",
       "      <td>...</td>\n",
       "    </tr>\n",
       "    <tr>\n",
       "      <th>32556</th>\n",
       "      <td>1</td>\n",
       "      <td>-1.0</td>\n",
       "      <td>-1.0</td>\n",
       "      <td>-1.0</td>\n",
       "      <td>-1.0</td>\n",
       "    </tr>\n",
       "    <tr>\n",
       "      <th>32557</th>\n",
       "      <td>1</td>\n",
       "      <td>-1.0</td>\n",
       "      <td>-1.0</td>\n",
       "      <td>-1.0</td>\n",
       "      <td>-1.0</td>\n",
       "    </tr>\n",
       "    <tr>\n",
       "      <th>32558</th>\n",
       "      <td>1</td>\n",
       "      <td>-1.0</td>\n",
       "      <td>-1.0</td>\n",
       "      <td>-1.0</td>\n",
       "      <td>-1.0</td>\n",
       "    </tr>\n",
       "    <tr>\n",
       "      <th>32559</th>\n",
       "      <td>1</td>\n",
       "      <td>-1.0</td>\n",
       "      <td>-1.0</td>\n",
       "      <td>-1.0</td>\n",
       "      <td>-1.0</td>\n",
       "    </tr>\n",
       "    <tr>\n",
       "      <th>32560</th>\n",
       "      <td>1</td>\n",
       "      <td>-1.0</td>\n",
       "      <td>-1.0</td>\n",
       "      <td>-1.0</td>\n",
       "      <td>-1.0</td>\n",
       "    </tr>\n",
       "  </tbody>\n",
       "</table>\n",
       "<p>32561 rows × 5 columns</p>\n",
       "</div>"
      ],
      "text/plain": [
       "       intercept  8_0  8_1  8_2  8_3\n",
       "0              1 -1.0 -1.0 -1.0 -1.0\n",
       "1              1 -1.0 -1.0 -1.0 -1.0\n",
       "2              1 -1.0 -1.0 -1.0 -1.0\n",
       "3              1  1.0 -1.0 -1.0 -1.0\n",
       "4              1  1.0 -1.0 -1.0 -1.0\n",
       "...          ...  ...  ...  ...  ...\n",
       "32556          1 -1.0 -1.0 -1.0 -1.0\n",
       "32557          1 -1.0 -1.0 -1.0 -1.0\n",
       "32558          1 -1.0 -1.0 -1.0 -1.0\n",
       "32559          1 -1.0 -1.0 -1.0 -1.0\n",
       "32560          1 -1.0 -1.0 -1.0 -1.0\n",
       "\n",
       "[32561 rows x 5 columns]"
      ]
     },
     "execution_count": 21,
     "metadata": {},
     "output_type": "execute_result"
    }
   ],
   "source": [
    "X_train"
   ]
  },
  {
   "cell_type": "markdown",
   "metadata": {},
   "source": [
    "### To do: \n",
    "F1 score for multiclass <br>\n",
    "best hyperparameters"
   ]
  },
  {
   "cell_type": "code",
   "execution_count": null,
   "metadata": {},
   "outputs": [],
   "source": []
  },
  {
   "cell_type": "code",
   "execution_count": null,
   "metadata": {},
   "outputs": [],
   "source": []
  },
  {
   "cell_type": "code",
   "execution_count": null,
   "metadata": {},
   "outputs": [],
   "source": []
  },
  {
   "cell_type": "code",
   "execution_count": null,
   "metadata": {},
   "outputs": [],
   "source": []
  },
  {
   "cell_type": "code",
   "execution_count": null,
   "metadata": {},
   "outputs": [],
   "source": []
  },
  {
   "cell_type": "code",
   "execution_count": null,
   "metadata": {},
   "outputs": [],
   "source": []
  },
  {
   "cell_type": "code",
   "execution_count": null,
   "metadata": {},
   "outputs": [],
   "source": []
  },
  {
   "cell_type": "code",
   "execution_count": null,
   "metadata": {},
   "outputs": [],
   "source": []
  }
 ],
 "metadata": {
  "kernelspec": {
   "display_name": "Python 3",
   "language": "python",
   "name": "python3"
  },
  "language_info": {
   "codemirror_mode": {
    "name": "ipython",
    "version": 3
   },
   "file_extension": ".py",
   "mimetype": "text/x-python",
   "name": "python",
   "nbconvert_exporter": "python",
   "pygments_lexer": "ipython3",
   "version": "3.7.6"
  }
 },
 "nbformat": 4,
 "nbformat_minor": 2
}
